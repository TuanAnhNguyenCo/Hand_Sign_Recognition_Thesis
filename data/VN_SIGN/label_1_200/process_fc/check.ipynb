{
 "cells": [
  {
   "cell_type": "code",
   "execution_count": 1,
   "metadata": {},
   "outputs": [],
   "source": [
    "import pandas as pd\n",
    "from tqdm.auto import tqdm\n",
    "import os\n",
    "import random\n",
    "import numpy as np\n",
    "\n",
    "def get_errors_and_duplicate_samle(data_url = \"double_checked_data.csv\"):\n",
    "    data = pd.read_csv(data_url)\n",
    "    def cut_video(implementer,title,idx,order_id,label_id,start_time,end_time,raw_video_name):\n",
    "        start_time = float(start_time)\n",
    "        end_time = float(end_time)\n",
    "        implementer_id = implementer.split(\"_\")[0]\n",
    "        title_ = None\n",
    "        if 'right' in title:\n",
    "            title_ = 'right'\n",
    "        elif 'left' in title:\n",
    "            title_ = 'left'\n",
    "        elif 'center' in title:\n",
    "            title_ = 'center'\n",
    "        assert title_ is not None\n",
    "\n",
    "        name = f\"{raw_video_name}_signer{implementer_id}_{title_}_ord{int(order_id)}_{int(label_id)-1}.mp4\"\n",
    "\n",
    "        return [name,label_id-1]\n",
    "\n",
    "\n",
    "    labels = []\n",
    "    errors = []\n",
    "    for idx,(group_id, group_data) in tqdm(enumerate(data.groupby(\"id\"))):\n",
    "        for id,(i,row) in enumerate(group_data.iterrows()):\n",
    "            try:\n",
    "                lb = cut_video(\n",
    "                                row['implementer'], row['title'], id+1, int(row['order_action']), int(row['label_id']),\n",
    "                                row['start_time'], row['end_time'],row['title']\n",
    "                            )\n",
    "                lb.extend([row['id-2']])\n",
    "                labels.append(lb)\n",
    "            except Exception as e:\n",
    "                errors.append([group_id,row['start_time'], row['end_time'],e])\n",
    "    errors = pd.DataFrame(errors,columns=['video_id','start',\"end\",\"error\"])\n",
    "    labels = pd.DataFrame(labels,columns=['name','label',\"video_lb_id\"])\n",
    "\n",
    "    # remove duplicated video\n",
    "    duplicate_labels = labels[labels.duplicated(subset=['name'])]\n",
    "    duplicate_labels = duplicate_labels.merge(data[['id-2', 'id']], left_on='video_lb_id', right_on='id-2', how='left')\n",
    "    # Xóa cột 'col_name' từ DataFrame\n",
    "    duplicate_labels.drop(columns=['id-2'], inplace=True)\n",
    "    duplicate_labels['label'] += 1\n",
    "    return errors,duplicate_labels"
   ]
  },
  {
   "cell_type": "code",
   "execution_count": 2,
   "metadata": {},
   "outputs": [
    {
     "data": {
      "application/vnd.jupyter.widget-view+json": {
       "model_id": "d3535a9e5f0b46638b1c7093bb5e6042",
       "version_major": 2,
       "version_minor": 0
      },
      "text/plain": [
       "0it [00:00, ?it/s]"
      ]
     },
     "metadata": {},
     "output_type": "display_data"
    }
   ],
   "source": [
    "errors,duplicate_labels = get_errors_and_duplicate_samle(data_url = \"data.csv\")"
   ]
  },
  {
   "cell_type": "code",
   "execution_count": 9,
   "metadata": {},
   "outputs": [],
   "source": [
    "duplicate_labels.to_csv(\"duplicate_videos.csv\",index=False)"
   ]
  },
  {
   "cell_type": "code",
   "execution_count": 11,
   "metadata": {},
   "outputs": [],
   "source": [
    "errors.to_csv(\"errors.csv\",index=False)"
   ]
  },
  {
   "cell_type": "code",
   "execution_count": 6,
   "metadata": {},
   "outputs": [
    {
     "data": {
      "text/html": [
       "<div>\n",
       "<style scoped>\n",
       "    .dataframe tbody tr th:only-of-type {\n",
       "        vertical-align: middle;\n",
       "    }\n",
       "\n",
       "    .dataframe tbody tr th {\n",
       "        vertical-align: top;\n",
       "    }\n",
       "\n",
       "    .dataframe thead th {\n",
       "        text-align: right;\n",
       "    }\n",
       "</style>\n",
       "<table border=\"1\" class=\"dataframe\">\n",
       "  <thead>\n",
       "    <tr style=\"text-align: right;\">\n",
       "      <th></th>\n",
       "      <th>name</th>\n",
       "      <th>label</th>\n",
       "      <th>video_lb_id</th>\n",
       "      <th>id</th>\n",
       "    </tr>\n",
       "  </thead>\n",
       "  <tbody>\n",
       "    <tr>\n",
       "      <th>0</th>\n",
       "      <td>16_Tuan-Kiet_400-700_10-11-12_0112___center_de...</td>\n",
       "      <td>654</td>\n",
       "      <td>763639</td>\n",
       "      <td>16</td>\n",
       "    </tr>\n",
       "    <tr>\n",
       "      <th>1</th>\n",
       "      <td>08_Thay-Son_400-700_1-2-3_0112___center_device...</td>\n",
       "      <td>421</td>\n",
       "      <td>758534</td>\n",
       "      <td>24</td>\n",
       "    </tr>\n",
       "    <tr>\n",
       "      <th>2</th>\n",
       "      <td>08_Thay-Son_400-700_1-2-3_0112___center_device...</td>\n",
       "      <td>467</td>\n",
       "      <td>758581</td>\n",
       "      <td>24</td>\n",
       "    </tr>\n",
       "    <tr>\n",
       "      <th>3</th>\n",
       "      <td>04_Co-Hang_700-1000_13-14-15_0122___right_devi...</td>\n",
       "      <td>715</td>\n",
       "      <td>506518</td>\n",
       "      <td>40</td>\n",
       "    </tr>\n",
       "    <tr>\n",
       "      <th>4</th>\n",
       "      <td>04_Co-Hang_700-1000_13-14-15_0122___right_devi...</td>\n",
       "      <td>862</td>\n",
       "      <td>506665</td>\n",
       "      <td>40</td>\n",
       "    </tr>\n",
       "    <tr>\n",
       "      <th>...</th>\n",
       "      <td>...</td>\n",
       "      <td>...</td>\n",
       "      <td>...</td>\n",
       "      <td>...</td>\n",
       "    </tr>\n",
       "    <tr>\n",
       "      <th>1150</th>\n",
       "      <td>16_Tuan-Kiet_700-1000_4-5-6_0119___center_devi...</td>\n",
       "      <td>998</td>\n",
       "      <td>790475</td>\n",
       "      <td>431</td>\n",
       "    </tr>\n",
       "    <tr>\n",
       "      <th>1151</th>\n",
       "      <td>16_Tuan-Kiet_700-1000_4-5-6_0119___center_devi...</td>\n",
       "      <td>999</td>\n",
       "      <td>790192</td>\n",
       "      <td>431</td>\n",
       "    </tr>\n",
       "    <tr>\n",
       "      <th>1152</th>\n",
       "      <td>16_Tuan-Kiet_700-1000_4-5-6_0119___center_devi...</td>\n",
       "      <td>1000</td>\n",
       "      <td>790477</td>\n",
       "      <td>431</td>\n",
       "    </tr>\n",
       "    <tr>\n",
       "      <th>1153</th>\n",
       "      <td>16_Tuan-Kiet_700-1000_4-5-6_0119___center_devi...</td>\n",
       "      <td>1001</td>\n",
       "      <td>790194</td>\n",
       "      <td>431</td>\n",
       "    </tr>\n",
       "    <tr>\n",
       "      <th>1154</th>\n",
       "      <td>20-_Hong-Anh_200-400_10-11-12_0110___center_de...</td>\n",
       "      <td>350</td>\n",
       "      <td>530831</td>\n",
       "      <td>510</td>\n",
       "    </tr>\n",
       "  </tbody>\n",
       "</table>\n",
       "<p>1155 rows × 4 columns</p>\n",
       "</div>"
      ],
      "text/plain": [
       "                                                   name  label  video_lb_id  \\\n",
       "0     16_Tuan-Kiet_400-700_10-11-12_0112___center_de...    654       763639   \n",
       "1     08_Thay-Son_400-700_1-2-3_0112___center_device...    421       758534   \n",
       "2     08_Thay-Son_400-700_1-2-3_0112___center_device...    467       758581   \n",
       "3     04_Co-Hang_700-1000_13-14-15_0122___right_devi...    715       506518   \n",
       "4     04_Co-Hang_700-1000_13-14-15_0122___right_devi...    862       506665   \n",
       "...                                                 ...    ...          ...   \n",
       "1150  16_Tuan-Kiet_700-1000_4-5-6_0119___center_devi...    998       790475   \n",
       "1151  16_Tuan-Kiet_700-1000_4-5-6_0119___center_devi...    999       790192   \n",
       "1152  16_Tuan-Kiet_700-1000_4-5-6_0119___center_devi...   1000       790477   \n",
       "1153  16_Tuan-Kiet_700-1000_4-5-6_0119___center_devi...   1001       790194   \n",
       "1154  20-_Hong-Anh_200-400_10-11-12_0110___center_de...    350       530831   \n",
       "\n",
       "       id  \n",
       "0      16  \n",
       "1      24  \n",
       "2      24  \n",
       "3      40  \n",
       "4      40  \n",
       "...   ...  \n",
       "1150  431  \n",
       "1151  431  \n",
       "1152  431  \n",
       "1153  431  \n",
       "1154  510  \n",
       "\n",
       "[1155 rows x 4 columns]"
      ]
     },
     "execution_count": 6,
     "metadata": {},
     "output_type": "execute_result"
    }
   ],
   "source": [
    "duplicate_labels"
   ]
  },
  {
   "cell_type": "code",
   "execution_count": 4,
   "metadata": {},
   "outputs": [
    {
     "data": {
      "text/html": [
       "<div>\n",
       "<style scoped>\n",
       "    .dataframe tbody tr th:only-of-type {\n",
       "        vertical-align: middle;\n",
       "    }\n",
       "\n",
       "    .dataframe tbody tr th {\n",
       "        vertical-align: top;\n",
       "    }\n",
       "\n",
       "    .dataframe thead th {\n",
       "        text-align: right;\n",
       "    }\n",
       "</style>\n",
       "<table border=\"1\" class=\"dataframe\">\n",
       "  <thead>\n",
       "    <tr style=\"text-align: right;\">\n",
       "      <th></th>\n",
       "      <th>video_id</th>\n",
       "      <th>start</th>\n",
       "      <th>end</th>\n",
       "      <th>error</th>\n",
       "    </tr>\n",
       "  </thead>\n",
       "  <tbody>\n",
       "  </tbody>\n",
       "</table>\n",
       "</div>"
      ],
      "text/plain": [
       "Empty DataFrame\n",
       "Columns: [video_id, start, end, error]\n",
       "Index: []"
      ]
     },
     "execution_count": 4,
     "metadata": {},
     "output_type": "execute_result"
    }
   ],
   "source": [
    "errors"
   ]
  },
  {
   "cell_type": "code",
   "execution_count": null,
   "metadata": {},
   "outputs": [],
   "source": []
  }
 ],
 "metadata": {
  "kernelspec": {
   "display_name": "anhnct",
   "language": "python",
   "name": "python3"
  },
  "language_info": {
   "codemirror_mode": {
    "name": "ipython",
    "version": 3
   },
   "file_extension": ".py",
   "mimetype": "text/x-python",
   "name": "python",
   "nbconvert_exporter": "python",
   "pygments_lexer": "ipython3",
   "version": "3.8.13"
  }
 },
 "nbformat": 4,
 "nbformat_minor": 2
}
